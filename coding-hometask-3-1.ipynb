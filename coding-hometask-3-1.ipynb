{
 "cells": [
  {
   "cell_type": "markdown",
   "metadata": {
    "deletable": true,
    "editable": true
   },
   "source": [
    "# Задание по курсу «Дискретная оптимизация», МФТИ, весна 2017"
   ]
  },
  {
   "cell_type": "markdown",
   "metadata": {
    "collapsed": true,
    "deletable": true,
    "editable": true
   },
   "source": [
    "## Задача 3-1. Задача TSP: инкрементальные алгоритмы.\n",
    "\n",
    "В этой задаче Вам предлагается сравнить алгоритмы Nearest Neighbour и Nearest Insertion в задаче Euclidean TSP.\n",
    "\n",
    "**Даны:**\n",
    "* Координаты точек плоскости, являющихся вершинами графа.\n",
    "\n",
    "**Найти:**\n",
    "* Перестановку вершин, задающих минимальный по длине гамильтонов цикл в графе.\n",
    "\n",
    "Сделайте следующее:\n",
    "* Скачайте файл [`tsp-instances.zip`](https://github.com/dainiak/discrete-optimization-course/raw/master/tsp-instances.zip) и разархивируйте из него файлы со входами задачи TSP.\n",
    "* Реализуйте функции `solve_tsp_nearest_neighbour` и `solve_tsp_nearest_insertion`.\n",
    "* Запустите функцию `run_all()`, чтобы протестировать свой код и сравнить качество решений, получаемых Nearest Neighbour и Nearest Insertion. Сильно ли они отличаются? Запишите свои качественные выводы в 1-2 предложениях в последней ячейке ipynb-файла."
   ]
  },
  {
   "cell_type": "code",
   "execution_count": 118,
   "metadata": {
    "collapsed": false,
    "deletable": true,
    "editable": true
   },
   "outputs": [],
   "source": [
    "def read_tsp_instance(filename):\n",
    "    with open(filename, 'r') as file:\n",
    "        coordinates = []\n",
    "        for line in file:\n",
    "            line = line.strip().lower()\n",
    "            if line.startswith('dimension'):\n",
    "                coordinates = [(0,0)] * int(line.split()[-1])\n",
    "            tokens = line.split()\n",
    "            if len(tokens) == 3 and tokens[0].isdecimal():\n",
    "                tokens = line.split()\n",
    "                coordinates[int(tokens[0])-1] = tuple(map(float, tokens[1:]))\n",
    "        return coordinates\n",
    "\n",
    "from math import sqrt\n",
    "\n",
    "def euclidean_distance(point1, point2):\n",
    "    return sqrt((point1[0]-point2[0]) ** 2 + (point1[1]-point2[1]) ** 2)\n",
    "    \n",
    "def calculate_tour_length(instance, permutation):\n",
    "    n = len(permutation)\n",
    "    return sum(euclidean_distance(instance[permutation[i]], instance[permutation[(i+1) % n]]) for i in range(len(permutation)))\n",
    "\n",
    "def closest_point(point, route):\n",
    "    closest_distance = float(\"inf\")\n",
    "    for p in route:\n",
    "        d = euclidean_distance(point, p)\n",
    "        if d < closest_distance:\n",
    "            closest_distance = d\n",
    "            closest = p\n",
    "    return closest, closest_distance\n",
    "\n",
    "def closest_cycle(cycle, route):\n",
    "    closest_distance = float(\"inf\")\n",
    "    for edge_i, v1_i in enumerate(cycle[:-1]):\n",
    "        v2_i = cycle[edge_i + 1] \n",
    "        edge_w = euclidean_distance(instance[v1_i], instance[v2_i]) \n",
    "        for vertex_i in vertex_indices:\n",
    "            cur_dist = euclidean_distance(instance[v1_i], instance[vertex_i]) + \\\n",
    "                    euclidean_distance(instance[v2_i], instance[vertex_i]) - edge_w\n",
    "            if cur_dist < min_dist:\n",
    "                min_dist = cur_dist\n",
    "                closest_i = vertex_i\n",
    "                insertion_i = edge_i    \n",
    "    return closest_i, insertion_i"
   ]
  },
  {
   "cell_type": "code",
   "execution_count": 119,
   "metadata": {
    "collapsed": false,
    "deletable": true,
    "editable": true
   },
   "outputs": [],
   "source": [
    "def solve_tsp_nearest_neighbour(instance):\n",
    "    point = instance[0]\n",
    "    route = instance[1:]\n",
    "    path = [point]\n",
    "    perm = [0]\n",
    "    sum = 0\n",
    "    while len(route) >= 1:\n",
    "        closest, dist = closest_point(path[-1], route)\n",
    "        path.append(closest)\n",
    "        route.remove(closest)\n",
    "        perm.append(instance.index(closest))\n",
    "        sum += dist\n",
    "    closest, dist = closest_point(path[-1], [point])\n",
    "    path.append(closest)\n",
    "    sum += dist\n",
    "    return perm"
   ]
  },
  {
   "cell_type": "code",
   "execution_count": 120,
   "metadata": {
    "collapsed": true,
    "deletable": true,
    "editable": true
   },
   "outputs": [],
   "source": [
    "def solve_tsp_nearest_insertion(instance):\n",
    "    # Your solution goes in here…\n",
    "    # The return value is permutation of vertices that corresponds to a minimal TSP tour\n",
    "    return list(range(len(instance)))"
   ]
  },
  {
   "cell_type": "code",
   "execution_count": 121,
   "metadata": {
    "collapsed": false,
    "deletable": true,
    "editable": true
   },
   "outputs": [],
   "source": [
    "import time\n",
    "from os.path import exists\n",
    "\n",
    "def run_all():\n",
    "    instance_filenames = ['d198.tsp', 'd493.tsp', 'd657.tsp', 'd2103.tsp', 'pr107.tsp', 'pr152.tsp', 'pr439.tsp']\n",
    "    for filename in instance_filenames:\n",
    "        if not exists(filename):\n",
    "            print('File not found: “{}”. Skipping this instance.'.format(filename))\n",
    "            continue\n",
    "        instance = read_tsp_instance(filename)\n",
    "        print('Solving instance {}…'.format(filename), end='')\n",
    "        time_start = time.monotonic()\n",
    "        quality_nn = calculate_tour_length(instance, solve_tsp_nearest_neighbour(instance))\n",
    "        time_nn = time.monotonic()-time_start\n",
    "        time_start = time.monotonic()\n",
    "        quality_ni = calculate_tour_length(instance, solve_tsp_nearest_insertion(instance))\n",
    "        time_ni = time.monotonic()-time_start\n",
    "        print(' done in {:.2} seconds with tour length {} using NN and in {:.2} seconds with tour length {} using NI'.format(time_nn, int(quality_nn), time_ni, int(quality_ni)))"
   ]
  },
  {
   "cell_type": "code",
   "execution_count": 122,
   "metadata": {
    "collapsed": false,
    "deletable": true,
    "editable": true
   },
   "outputs": [
    {
     "name": "stdout",
     "output_type": "stream",
     "text": [
      "Solving instance d198.tsp…Length: 18620.073812019415\n",
      " done in 0.0089 seconds with tour length 18620 using NN and in 0.0001 seconds with tour length 22514 using NI\n",
      "Solving instance d493.tsp…Length: 43646.37613392927\n",
      " done in 0.049 seconds with tour length 43646 using NN and in 0.00025 seconds with tour length 113552 using NI\n",
      "Solving instance d657.tsp…Length: 62176.401032322225\n",
      " done in 0.085 seconds with tour length 62176 using NN and in 0.00033 seconds with tour length 232140 using NI\n",
      "Solving instance d2103.tsp…Length: 87468.56910165025\n",
      " done in 0.86 seconds with tour length 87468 using NN and in 0.0012 seconds with tour length 141253 using NI\n",
      "Solving instance pr107.tsp…Length: 46678.15415698672\n",
      " done in 0.0024 seconds with tour length 46678 using NN and in 5.3e-05 seconds with tour length 62756 using NI\n",
      "Solving instance pr152.tsp…Length: 85702.9536568167\n",
      " done in 0.0047 seconds with tour length 85702 using NN and in 7.4e-05 seconds with tour length 160979 using NI\n",
      "Solving instance pr439.tsp…Length: 131282.09211543194\n",
      " done in 0.038 seconds with tour length 131282 using NN and in 0.00032 seconds with tour length 270651 using NI\n"
     ]
    }
   ],
   "source": [
    "run_all()"
   ]
  },
  {
   "cell_type": "markdown",
   "metadata": {
    "collapsed": true,
    "deletable": true,
    "editable": true
   },
   "source": [
    "## Выводы\n",
    "(Опишите в 1-2 предложениях свои наблюдения по результатам запусков.)"
   ]
  }
 ],
 "metadata": {
  "kernelspec": {
   "display_name": "Python 3",
   "language": "python",
   "name": "python3"
  },
  "language_info": {
   "codemirror_mode": {
    "name": "ipython",
    "version": 3
   },
   "file_extension": ".py",
   "mimetype": "text/x-python",
   "name": "python",
   "nbconvert_exporter": "python",
   "pygments_lexer": "ipython3",
   "version": "3.6.0"
  }
 },
 "nbformat": 4,
 "nbformat_minor": 2
}
