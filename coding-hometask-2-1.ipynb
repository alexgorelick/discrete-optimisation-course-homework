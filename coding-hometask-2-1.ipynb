{
 "cells": [
  {
   "cell_type": "markdown",
   "metadata": {},
   "source": [
    "# Задание по курсу «Дискретная оптимизация», МФТИ, весна 2017"
   ]
  },
  {
   "cell_type": "markdown",
   "metadata": {},
   "source": [
    "## Задача 2-1. Применяем простейший локальный поиск.\n",
    "\n",
    "В этой задаче Вам предлагается попробовать стандартную технику локального поиска (local search) в применении к задаче о сбалансированном разбиении графа. Мы будем рассматривать безвесовый вариант задачи с параметром балансировки $\\alpha=\\frac{1}{2}$:\n",
    "\n",
    "**Даны:**\n",
    "* $G=(V,E)$ — граф без весов на рёбрах\n",
    "\n",
    "**Найти:**\n",
    "* Разбиение $V=V'\\sqcup V''$, такое, что $V'=\\lfloor |V|/2 \\rfloor$ и число рёбер между $V'$ и $V''$ минимально возможное.\n",
    "\n",
    "Сделайте следующее:\n",
    "* [Скачайте](http://mat.gsia.cmu.edu/COLOR/instances.html#XXMYC) файлы mycielX.col  (`for X in range(1,8)`).  (Если интересно, откуда такие графы берутся и чем интересны, см. конструкцию Зыкова—Мыцельского [здесь](https://docs.com/dainiak/3327).)\n",
    "* Для каждого из графов найдите локальным поиском локально минимальное (по количеству рёбер между частями) разбиение вершин графа на две части, мощности которых отличаются не более чем на единицу. \n",
    "* Ваша функция `basic_local_search` должна принимать на вход граф в формате, предоставляемом функцией `read_col_file`, и возвращать найденное локально минимальное разбиение просто как множество либо список вершин, лежащих в одной любой из двух компонент разбиения."
   ]
  },
  {
   "cell_type": "code",
   "execution_count": 1,
   "metadata": {
    "collapsed": true
   },
   "outputs": [],
   "source": [
    "def read_col_file(filename):\n",
    "    with open(filename, 'r') as file:\n",
    "        vertices, edges = set(), set()\n",
    "        for line in file:\n",
    "            line = line.strip()\n",
    "            if line.startswith('p'):\n",
    "                vertices = set(range(1, int(line.split()[-2]) + 1))\n",
    "            elif line.startswith('e'):\n",
    "                edges.add(tuple(map(int, line.split()[-2:])))\n",
    "        return (vertices, edges)"
   ]
  },
  {
   "cell_type": "code",
   "execution_count": 7,
   "metadata": {
    "collapsed": false
   },
   "outputs": [],
   "source": [
    "from numpy import random as npr\n",
    "def func(e, colors):\n",
    "    result = 0\n",
    "    for i in range(len(e)):\n",
    "        result += ((colors[e[i][0] - 1] != colors[e[i][1] - 1]) if 1 else 0)\n",
    "    return result"
   ]
  },
  {
   "cell_type": "code",
   "execution_count": 8,
   "metadata": {
    "collapsed": false
   },
   "outputs": [],
   "source": [
    "def basic_local_search(graph):\n",
    "    v = list(graph[0])\n",
    "    e = list(graph[1])\n",
    "    n = len(v)\n",
    "    v1 = v[: n // 2]\n",
    "    v2 = v[n // 2:]\n",
    "    colors = []\n",
    "    for i in range(n // 2):\n",
    "        colors.append(0)\n",
    "    for i in range((n + 1) // 2):\n",
    "        colors.append(1)\n",
    "    result = func(e, colors)\n",
    "    for iteration in range(40000):\n",
    "        i = npr.randint(0, len(v1) - 1)\n",
    "        j = npr.randint(0, len(v2) - 1)\n",
    "        v1[i], v2[j] = v2[j], v1[i]\n",
    "        colors[i], colors[j + n // 2] = colors[j + n // 2], colors[i]\n",
    "        temp = func(e, colors)\n",
    "        if (temp < result):\n",
    "            result = temp\n",
    "        else:\n",
    "            v1[i], v2[j] = v2[j], v1[i]\n",
    "            colors[i], colors[j + n // 2] = colors[j + n // 2], colors[i]\n",
    "    print(result)\n",
    "    return v1"
   ]
  },
  {
   "cell_type": "code",
   "execution_count": 9,
   "metadata": {
    "collapsed": false
   },
   "outputs": [
    {
     "name": "stdout",
     "output_type": "stream",
     "text": [
      "8\n",
      "graph№3: [10, 9, 3, 4, 5]\n",
      "\n",
      "\n",
      "28\n",
      "graph№4: [16, 5, 17, 4, 14, 6, 22, 8, 9, 19, 11]\n",
      "\n",
      "\n",
      "94\n",
      "graph№5: [37, 2, 42, 34, 5, 6, 36, 8, 25, 10, 11, 31, 43, 14, 9, 40, 17, 45, 19, 22, 38, 28, 23]\n",
      "\n",
      "\n",
      "303\n",
      "graph№6: [62, 2, 8, 5, 89, 6, 7, 29, 73, 84, 71, 10, 13, 14, 15, 19, 59, 82, 88, 85, 58, 22, 87, 24, 79, 12, 57, 78, 27, 55, 70, 83, 33, 51, 35, 36, 37, 56, 39, 40, 92, 86, 60, 1, 41, 76, 47]\n",
      "\n",
      "\n",
      "932\n",
      "graph№7: [60, 114, 149, 169, 16, 141, 177, 35, 2, 123, 11, 26, 167, 14, 15, 71, 132, 153, 59, 20, 138, 22, 137, 9, 164, 41, 96, 81, 47, 103, 19, 74, 152, 34, 46, 48, 37, 38, 39, 142, 134, 42, 4, 175, 45, 129, 161, 155, 21, 181, 189, 52, 126, 87, 55, 56, 18, 188, 115, 10, 173, 62, 70, 168, 23, 50, 67, 13, 69, 158, 100, 25, 162, 88, 75, 76, 57, 78, 79, 73, 147, 82, 83, 7, 44, 61, 27, 63, 89, 90, 91, 92, 106, 183, 95]\n",
      "\n",
      "\n"
     ]
    }
   ],
   "source": [
    "for i in range(3, 8):\n",
    "    v1 = basic_local_search(read_col_file('myciel' + str(i) + '.col'))\n",
    "    print('graph' + '№' + str(i) + ': ' + str(v1) + '\\n\\n')"
   ]
  }
 ],
 "metadata": {
  "kernelspec": {
   "display_name": "Python 3",
   "language": "python",
   "name": "python3"
  },
  "language_info": {
   "codemirror_mode": {
    "name": "ipython",
    "version": 3
   },
   "file_extension": ".py",
   "mimetype": "text/x-python",
   "name": "python",
   "nbconvert_exporter": "python",
   "pygments_lexer": "ipython3",
   "version": "3.6.0"
  }
 },
 "nbformat": 4,
 "nbformat_minor": 2
}
