{
 "cells": [
  {
   "cell_type": "markdown",
   "metadata": {},
   "source": [
    "# Задание по курсу «Дискретная оптимизация», МФТИ, весна 2017"
   ]
  },
  {
   "cell_type": "markdown",
   "metadata": {},
   "source": [
    "## Задача 2-1. Применяем простейший локальный поиск.\n",
    "\n",
    "В этой задаче Вам предлагается попробовать стандартную технику локального поиска (local search) в применении к задаче о сбалансированном разбиении графа. Мы будем рассматривать безвесовый вариант задачи с параметром балансировки $\\alpha=\\frac{1}{2}$:\n",
    "\n",
    "**Даны:**\n",
    "* $G=(V,E)$ — граф без весов на рёбрах\n",
    "\n",
    "**Найти:**\n",
    "* Разбиение $V=V'\\sqcup V''$, такое, что $V'=\\lfloor |V|/2 \\rfloor$ и число рёбер между $V'$ и $V''$ минимально возможное.\n",
    "\n",
    "Сделайте следующее:\n",
    "* [Скачайте](http://mat.gsia.cmu.edu/COLOR/instances.html#XXMYC) файлы mycielX.col  (`for X in range(1,8)`).  (Если интересно, откуда такие графы берутся и чем интересны, см. конструкцию Зыкова—Мыцельского [здесь](https://docs.com/dainiak/3327).)\n",
    "* Для каждого из графов найдите локальным поиском локально минимальное (по количеству рёбер между частями) разбиение вершин графа на две части, мощности которых отличаются не более чем на единицу. \n",
    "* Ваша функция `basic_local_search` должна принимать на вход граф в формате, предоставляемом функцией `read_col_file`, и возвращать найденное локально минимальное разбиение просто как множество либо список вершин, лежащих в одной любой из двух компонент разбиения."
   ]
  },
  {
   "cell_type": "code",
   "execution_count": 1,
   "metadata": {
    "collapsed": true
   },
   "outputs": [],
   "source": [
    "def read_col_file(filename):\n",
    "    with open(filename, 'r') as file:\n",
    "        vertices, edges = set(), set()\n",
    "        for line in file:\n",
    "            line = line.strip()\n",
    "            if line.startswith('p'):\n",
    "                vertices = set(range(1, int(line.split()[-2]) + 1))\n",
    "            elif line.startswith('e'):\n",
    "                edges.add(tuple(map(int, line.split()[-2:])))\n",
    "        return (vertices, edges)"
   ]
  },
  {
   "cell_type": "code",
   "execution_count": 2,
   "metadata": {},
   "outputs": [],
   "source": [
    "from numpy import random as npr\n",
    "def func(e, colors):\n",
    "    result = 0\n",
    "    for i in range(len(e)):\n",
    "        result += ((colors[e[i][0] - 1] != colors[e[i][1] - 1]) if 1 else 0)\n",
    "    return result"
   ]
  },
  {
   "cell_type": "code",
   "execution_count": 3,
   "metadata": {},
   "outputs": [],
   "source": [
    "def basic_local_search(graph):\n",
    "    v = list(graph[0])\n",
    "    e = list(graph[1])\n",
    "    n = len(v)\n",
    "    v1 = v[: n // 2]\n",
    "    v2 = v[n // 2:]\n",
    "    colors = []\n",
    "    for i in range(n // 2):\n",
    "        colors.append(0)\n",
    "    for i in range((n + 1) // 2):\n",
    "        colors.append(1)\n",
    "    result = func(e, colors)\n",
    "    for iteration in range(40000):\n",
    "        i = npr.randint(0, len(v1) - 1)\n",
    "        j = npr.randint(0, len(v2) - 1)\n",
    "        v1[i], v2[j] = v2[j], v1[i]\n",
    "        colors[i], colors[j + n // 2] = colors[j + n // 2], colors[i]\n",
    "        temp = func(e, colors)\n",
    "        if (temp < result):\n",
    "            result = temp\n",
    "        else:\n",
    "            v1[i], v2[j] = v2[j], v1[i]\n",
    "            colors[i], colors[j + n // 2] = colors[j + n // 2], colors[i]\n",
    "    print(result)\n",
    "    return v1"
   ]
  },
  {
   "cell_type": "code",
   "execution_count": 4,
   "metadata": {},
   "outputs": [
    {
     "name": "stdout",
     "output_type": "stream",
     "text": [
      "8\n",
      "graph№3: [6, 2, 8, 4, 5]\n",
      "\n",
      "\n",
      "29\n",
      "graph№4: [1, 15, 16, 4, 22, 2, 7, 12, 9, 10, 11]\n",
      "\n",
      "\n",
      "97\n",
      "graph№5: [28, 2, 3, 27, 5, 29, 42, 40, 26, 10, 30, 45, 13, 14, 15, 16, 17, 12, 11, 25, 1, 22, 23]\n",
      "\n",
      "\n",
      "302\n",
      "graph№6: [87, 46, 89, 52, 12, 75, 7, 72, 59, 10, 33, 61, 88, 14, 15, 60, 19, 18, 8, 20, 21, 68, 23, 93, 90, 76, 54, 28, 66, 32, 48, 67, 27, 83, 58, 82, 37, 11, 73, 40, 41, 42, 43, 44, 85, 63, 47]\n",
      "\n",
      "\n",
      "931\n",
      "graph№7: [187, 2, 123, 143, 5, 85, 7, 33, 128, 75, 153, 121, 48, 144, 107, 38, 17, 18, 19, 50, 4, 106, 23, 150, 131, 26, 11, 132, 120, 146, 25, 105, 186, 34, 133, 129, 160, 137, 179, 185, 102, 141, 171, 127, 164, 80, 177, 158, 122, 21, 145, 101, 89, 159, 55, 178, 77, 156, 3, 41, 61, 169, 53, 64, 65, 35, 87, 68, 163, 154, 24, 117, 73, 57, 173, 32, 114, 15, 79, 166, 81, 82, 83, 84, 71, 54, 47, 51, 58, 90, 91, 92, 93, 155, 95]\n",
      "\n",
      "\n"
     ]
    }
   ],
   "source": [
    "for i in range(3, 8):\n",
    "    v1 = basic_local_search(read_col_file('myciel' + str(i) + '.col'))\n",
    "    print('graph' + '№' + str(i) + ': ' + str(v1) + '\\n\\n')"
   ]
  }
 ],
 "metadata": {
  "kernelspec": {
   "display_name": "Python 3",
   "language": "python",
   "name": "python3"
  },
  "language_info": {
   "codemirror_mode": {
    "name": "ipython",
    "version": 3
   },
   "file_extension": ".py",
   "mimetype": "text/x-python",
   "name": "python",
   "nbconvert_exporter": "python",
   "pygments_lexer": "ipython3",
   "version": "3.6.0"
  }
 },
 "nbformat": 4,
 "nbformat_minor": 2
}
