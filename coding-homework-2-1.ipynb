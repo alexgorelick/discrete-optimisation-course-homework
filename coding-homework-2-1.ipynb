{
 "cells": [
  {
   "cell_type": "markdown",
   "metadata": {},
   "source": [
    "# Задание по курсу «Дискретная оптимизация», МФТИ, весна 2017"
   ]
  },
  {
   "cell_type": "markdown",
   "metadata": {},
   "source": [
    "## Задача 2-1. Применяем простейший локальный поиск.\n",
    "\n",
    "В этой задаче Вам предлагается попробовать стандартную технику локального поиска (local search) в применении к задаче о сбалансированном разбиении графа. Мы будем рассматривать безвесовый вариант задачи с параметром балансировки $\\alpha=\\frac{1}{2}$:\n",
    "\n",
    "**Даны:**\n",
    "* $G=(V,E)$ — граф без весов на рёбрах\n",
    "\n",
    "**Найти:**\n",
    "* Разбиение $V=V'\\sqcup V''$, такое, что $V'=\\lfloor |V|/2 \\rfloor$ и число рёбер между $V'$ и $V''$ минимально возможное.\n",
    "\n",
    "Сделайте следующее:\n",
    "* [Скачайте](http://mat.gsia.cmu.edu/COLOR/instances.html#XXMYC) файлы mycielX.col  (`for X in range(1,8)`).  (Если интересно, откуда такие графы берутся и чем интересны, см. конструкцию Зыкова—Мыцельского [здесь](https://docs.com/dainiak/3327).)\n",
    "* Для каждого из графов найдите локальным поиском локально минимальное (по количеству рёбер между частями) разбиение вершин графа на две части, мощности которых отличаются не более чем на единицу. \n",
    "* Ваша функция `basic_local_search` должна принимать на вход граф в формате, предоставляемом функцией `read_col_file`, и возвращать найденное локально минимальное разбиение просто как множество либо список вершин, лежащих в одной любой из двух компонент разбиения."
   ]
  },
  {
   "cell_type": "code",
   "execution_count": 1,
   "metadata": {
    "collapsed": true
   },
   "outputs": [],
   "source": [
    "def read_col_file(filename):\n",
    "    with open(filename, 'r') as file:\n",
    "        vertices, edges = set(), set()\n",
    "        for line in file:\n",
    "            line = line.strip()\n",
    "            if line.startswith('p'):\n",
    "                vertices = set(range(1, int(line.split()[-2]) + 1))\n",
    "            elif line.startswith('e'):\n",
    "                edges.add(tuple(map(int, line.split()[-2:])))\n",
    "        return (vertices, edges)"
   ]
  },
  {
   "cell_type": "code",
   "execution_count": 82,
   "metadata": {
    "collapsed": false
   },
   "outputs": [],
   "source": [
    "import random\n",
    "\n",
    "def ans(edges, colors):\n",
    "    tans = 0\n",
    "    for i in range(len(edges)):\n",
    "        if (colors[edges[i][0]] != colors[edges[i][1]]):\n",
    "            tans += 1\n",
    "    return tans\n",
    "\n",
    "def basic_local_search(graph):\n",
    "    vertices = list(graph[0])\n",
    "    edges = list(graph[1])\n",
    "    n = len(vertices)\n",
    "    colors = []\n",
    "    first = []\n",
    "    second = []\n",
    "    colors.append(-1)\n",
    "    for i in range(n // 2):\n",
    "        first.append(vertices[i])\n",
    "        colors.append(1)\n",
    "    for i in range(n // 2 + n % 2):\n",
    "        second.append(vertices[i + n // 2])\n",
    "        colors.append(2)\n",
    "    curf = ans(edges, colors)\n",
    "    for it in range(1, 40000):\n",
    "        k = 1 #amount of vertices, swapped on every step. random.randint(1, n // 2)\n",
    "        ftmp = []\n",
    "        stmp = []\n",
    "        random.shuffle(first)\n",
    "        random.shuffle(second)\n",
    "        for i in range(k):\n",
    "            first[i], second[i] = second[i], first[i]\n",
    "            colors[first[i]], colors[second[i]] = colors[second[i]], colors[first[i]]\n",
    "        tempf = ans(edges, colors)\n",
    "        if (tempf < curf):\n",
    "            curf = tempf\n",
    "        else:\n",
    "            for i in range(k):\n",
    "                first[i], second[i] = second[i], first[i]\n",
    "                colors[first[i]], colors[second[i]] = colors[second[i]], colors[first[i]]\n",
    "    print(curf)\n",
    "    return first"
   ]
  },
  {
   "cell_type": "code",
   "execution_count": 89,
   "metadata": {
    "collapsed": false
   },
   "outputs": [
    {
     "name": "stdout",
     "output_type": "stream",
     "text": [
      "For myciel3.col answer is:\n",
      "8\n",
      "One part of graph consists of these vertices:\n",
      "[1, 9, 4, 6, 5]\n",
      "\n",
      "\n",
      "For myciel4.col answer is:\n",
      "27\n",
      "One part of graph consists of these vertices:\n",
      "[5, 16, 3, 22, 4, 21, 7, 14, 9, 12, 10]\n",
      "\n",
      "\n",
      "For myciel5.col answer is:\n",
      "91\n",
      "One part of graph consists of these vertices:\n",
      "[28, 37, 34, 27, 3, 21, 24, 5, 14, 26, 18, 10, 20, 12, 35, 46, 7, 19, 4, 17, 16, 2, 9]\n",
      "\n",
      "\n",
      "For myciel6.col answer is:\n",
      "298\n",
      "One part of graph consists of these vertices:\n",
      "[37, 30, 58, 14, 42, 50, 51, 94, 66, 62, 21, 93, 6, 41, 43, 70, 61, 52, 33, 57, 46, 12, 79, 78, 17, 59, 44, 5, 74, 10, 40, 31, 15, 48, 19, 25, 49, 27, 38, 16, 69, 26, 22, 28, 32, 29, 2]\n",
      "\n",
      "\n",
      "For myciel7.col answer is:\n",
      "924\n",
      "One part of graph consists of these vertices:\n",
      "[123, 142, 1, 38, 41, 94, 55, 9, 70, 167, 66, 35, 58, 36, 12, 7, 44, 30, 23, 82, 165, 92, 117, 131, 72, 90, 39, 74, 190, 88, 83, 101, 154, 135, 97, 176, 89, 40, 31, 85, 136, 120, 100, 177, 140, 134, 144, 20, 67, 42, 84, 187, 25, 47, 6, 133, 27, 106, 32, 178, 17, 147, 107, 111, 164, 48, 51, 77, 54, 81, 53, 143, 138, 139, 79, 91, 19, 56, 137, 96, 45, 118, 87, 112, 43, 86, 49, 153, 129, 189, 8, 119, 132, 37, 130]\n",
      "\n",
      "\n"
     ]
    }
   ],
   "source": [
    "for i in range(3, 8):\n",
    "    cur_file = 'myciel' + str(i) + '.col'\n",
    "    graph = read_col_file(cur_file)\n",
    "    print('For ' + cur_file + ' answer is:')\n",
    "    one_part = basic_local_search(graph)\n",
    "    print('One part of graph consists of these vertices:\\n' + str(one_part))\n",
    "    print('\\n')"
   ]
  }
 ],
 "metadata": {
  "kernelspec": {
   "display_name": "Python 3",
   "language": "python",
   "name": "python3"
  },
  "language_info": {
   "codemirror_mode": {
    "name": "ipython",
    "version": 3
   },
   "file_extension": ".py",
   "mimetype": "text/x-python",
   "name": "python",
   "nbconvert_exporter": "python",
   "pygments_lexer": "ipython3",
   "version": "3.6.0"
  }
 },
 "nbformat": 4,
 "nbformat_minor": 2
}
